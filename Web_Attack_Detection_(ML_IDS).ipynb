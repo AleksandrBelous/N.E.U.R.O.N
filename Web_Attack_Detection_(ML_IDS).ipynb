{
 "cells": [
  {
   "cell_type": "markdown",
   "metadata": {
    "id": "tGLYJuXmFBZI"
   },
   "source": [
    "# Web attack detection using CICIDS2017 dataset"
   ]
  },
  {
   "cell_type": "markdown",
   "metadata": {
    "id": "sNPL1uYLFF1U"
   },
   "source": [
    "Training data: \"Intrusion Detection Evaluation Dataset\" (CICIDS2017). Description page: https://www.unb.ca/cic/datasets/ids-2017.html\n",
    "\n",
    "The data set is public. Download link: http://205.174.165.80/CICDataset/CIC-IDS-2017/Dataset/\n",
    "\n",
    "CICIDS2017 combines 8 files recorded on different days of observation (PCAP + CSV). Used archive: http://205.174.165.80/CICDataset/CIC-IDS-2017/Dataset/GeneratedLabelledFlows.zip\n",
    "\n",
    "In the downloaded archive GeneratedLabelledFlows.zip the file \"Thursday\" Thursday-WorkingHours-Morning-WebAttacks.pcap_ISCX.csv is selected.\n",
    "\n",
    "Sources:\n",
    "\n",
    "* [Sharafaldin2018] Iman Sharafaldin, Arash Habibi Lashkari and Ali A. Ghorbani. Toward Generating a New Intrusion Detection Dataset and Intrusion Traffic Characterization. 2018\n",
    "* [Kostas2018] Kahraman Kostas. Anomaly Detection in Networks Using Machine Learning. 2018 (error was found in assessing the importance of features)\n",
    "* https://github.com/bozbil/Anomaly-Detection-in-Networks-Using-Machine-Learning (error was found in assessing the importance of features)"
   ]
  },
  {
   "cell_type": "code",
   "execution_count": 1,
   "metadata": {
    "ExecuteTime": {
     "end_time": "2024-04-13T21:34:31.956471Z",
     "start_time": "2024-04-13T21:34:30.171407Z"
    },
    "id": "hJVAToeYFV2Q"
   },
   "outputs": [],
   "source": [
    "import pandas as pd\n",
    "import numpy as np\n",
    "import matplotlib.pyplot as plt\n",
    "%matplotlib inline"
   ]
  },
  {
   "cell_type": "code",
   "execution_count": 2,
   "metadata": {
    "ExecuteTime": {
     "end_time": "2024-04-13T21:34:32.063696Z",
     "start_time": "2024-04-13T21:34:31.960715Z"
    }
   },
   "outputs": [
    {
     "data": {
      "text/html": [
       "<div>\n",
       "<style scoped>\n",
       "    .dataframe tbody tr th:only-of-type {\n",
       "        vertical-align: middle;\n",
       "    }\n",
       "\n",
       "    .dataframe tbody tr th {\n",
       "        vertical-align: top;\n",
       "    }\n",
       "\n",
       "    .dataframe thead th {\n",
       "        text-align: right;\n",
       "    }\n",
       "</style>\n",
       "<table border=\"1\" class=\"dataframe\">\n",
       "  <thead>\n",
       "    <tr style=\"text-align: right;\">\n",
       "      <th></th>\n",
       "      <th>Average Packet Size</th>\n",
       "      <th>Flow Bytes/s</th>\n",
       "      <th>Fwd Packet Length Mean</th>\n",
       "      <th>Max Packet Length</th>\n",
       "      <th>Fwd IAT Min</th>\n",
       "      <th>Total Length of Fwd Packets</th>\n",
       "      <th>Flow IAT Mean</th>\n",
       "      <th>Fwd IAT Std</th>\n",
       "      <th>Fwd Packet Length Max</th>\n",
       "      <th>Fwd Header Length</th>\n",
       "      <th>Label</th>\n",
       "    </tr>\n",
       "  </thead>\n",
       "  <tbody>\n",
       "    <tr>\n",
       "      <th>0</th>\n",
       "      <td>158.3</td>\n",
       "      <td>270.947</td>\n",
       "      <td>526</td>\n",
       "      <td>144.3</td>\n",
       "      <td>0.004</td>\n",
       "      <td>1443</td>\n",
       "      <td>1.65100</td>\n",
       "      <td>0.64916</td>\n",
       "      <td>512</td>\n",
       "      <td>536</td>\n",
       "      <td>1</td>\n",
       "    </tr>\n",
       "    <tr>\n",
       "      <th>1</th>\n",
       "      <td>181.3</td>\n",
       "      <td>118.621</td>\n",
       "      <td>666</td>\n",
       "      <td>167.3</td>\n",
       "      <td>0.004</td>\n",
       "      <td>1673</td>\n",
       "      <td>2.66759</td>\n",
       "      <td>2.02854</td>\n",
       "      <td>652</td>\n",
       "      <td>536</td>\n",
       "      <td>1</td>\n",
       "    </tr>\n",
       "    <tr>\n",
       "      <th>2</th>\n",
       "      <td>179.8</td>\n",
       "      <td>37.896</td>\n",
       "      <td>665</td>\n",
       "      <td>165.8</td>\n",
       "      <td>0.049</td>\n",
       "      <td>1658</td>\n",
       "      <td>8.98554</td>\n",
       "      <td>4.74464</td>\n",
       "      <td>651</td>\n",
       "      <td>536</td>\n",
       "      <td>1</td>\n",
       "    </tr>\n",
       "    <tr>\n",
       "      <th>3</th>\n",
       "      <td>174.9</td>\n",
       "      <td>68.606</td>\n",
       "      <td>603</td>\n",
       "      <td>160.9</td>\n",
       "      <td>0.004</td>\n",
       "      <td>1609</td>\n",
       "      <td>3.42530</td>\n",
       "      <td>2.54967</td>\n",
       "      <td>589</td>\n",
       "      <td>536</td>\n",
       "      <td>1</td>\n",
       "    </tr>\n",
       "    <tr>\n",
       "      <th>4</th>\n",
       "      <td>126.8</td>\n",
       "      <td>100.780</td>\n",
       "      <td>666</td>\n",
       "      <td>112.8</td>\n",
       "      <td>0.003</td>\n",
       "      <td>1128</td>\n",
       "      <td>2.12797</td>\n",
       "      <td>1.25877</td>\n",
       "      <td>652</td>\n",
       "      <td>528</td>\n",
       "      <td>1</td>\n",
       "    </tr>\n",
       "    <tr>\n",
       "      <th>...</th>\n",
       "      <td>...</td>\n",
       "      <td>...</td>\n",
       "      <td>...</td>\n",
       "      <td>...</td>\n",
       "      <td>...</td>\n",
       "      <td>...</td>\n",
       "      <td>...</td>\n",
       "      <td>...</td>\n",
       "      <td>...</td>\n",
       "      <td>...</td>\n",
       "      <td>...</td>\n",
       "    </tr>\n",
       "    <tr>\n",
       "      <th>313</th>\n",
       "      <td>982.9</td>\n",
       "      <td>3502.007</td>\n",
       "      <td>1935</td>\n",
       "      <td>968.9</td>\n",
       "      <td>4.035</td>\n",
       "      <td>9689</td>\n",
       "      <td>0.31952</td>\n",
       "      <td>0.30548</td>\n",
       "      <td>1921</td>\n",
       "      <td>544</td>\n",
       "      <td>1</td>\n",
       "    </tr>\n",
       "    <tr>\n",
       "      <th>314</th>\n",
       "      <td>1158.7</td>\n",
       "      <td>3638.156</td>\n",
       "      <td>1934</td>\n",
       "      <td>1144.7</td>\n",
       "      <td>3.942</td>\n",
       "      <td>11447</td>\n",
       "      <td>0.33230</td>\n",
       "      <td>0.40012</td>\n",
       "      <td>1920</td>\n",
       "      <td>536</td>\n",
       "      <td>1</td>\n",
       "    </tr>\n",
       "    <tr>\n",
       "      <th>315</th>\n",
       "      <td>1158.7</td>\n",
       "      <td>3470.817</td>\n",
       "      <td>1934</td>\n",
       "      <td>1144.7</td>\n",
       "      <td>4.145</td>\n",
       "      <td>11447</td>\n",
       "      <td>0.36742</td>\n",
       "      <td>0.40015</td>\n",
       "      <td>1920</td>\n",
       "      <td>536</td>\n",
       "      <td>1</td>\n",
       "    </tr>\n",
       "    <tr>\n",
       "      <th>316</th>\n",
       "      <td>1158.7</td>\n",
       "      <td>3319.433</td>\n",
       "      <td>1933</td>\n",
       "      <td>1144.7</td>\n",
       "      <td>4.308</td>\n",
       "      <td>11447</td>\n",
       "      <td>0.33678</td>\n",
       "      <td>0.40009</td>\n",
       "      <td>1919</td>\n",
       "      <td>536</td>\n",
       "      <td>1</td>\n",
       "    </tr>\n",
       "    <tr>\n",
       "      <th>317</th>\n",
       "      <td>1158.6</td>\n",
       "      <td>3795.148</td>\n",
       "      <td>1933</td>\n",
       "      <td>1144.6</td>\n",
       "      <td>4.022</td>\n",
       "      <td>11446</td>\n",
       "      <td>0.31464</td>\n",
       "      <td>0.34414</td>\n",
       "      <td>1919</td>\n",
       "      <td>536</td>\n",
       "      <td>1</td>\n",
       "    </tr>\n",
       "  </tbody>\n",
       "</table>\n",
       "<p>15006 rows × 11 columns</p>\n",
       "</div>"
      ],
      "text/plain": [
       "     Average Packet Size  Flow Bytes/s  Fwd Packet Length Mean  \\\n",
       "0                  158.3       270.947                     526   \n",
       "1                  181.3       118.621                     666   \n",
       "2                  179.8        37.896                     665   \n",
       "3                  174.9        68.606                     603   \n",
       "4                  126.8       100.780                     666   \n",
       "..                   ...           ...                     ...   \n",
       "313                982.9      3502.007                    1935   \n",
       "314               1158.7      3638.156                    1934   \n",
       "315               1158.7      3470.817                    1934   \n",
       "316               1158.7      3319.433                    1933   \n",
       "317               1158.6      3795.148                    1933   \n",
       "\n",
       "     Max Packet Length  Fwd IAT Min  Total Length of Fwd Packets  \\\n",
       "0                144.3        0.004                         1443   \n",
       "1                167.3        0.004                         1673   \n",
       "2                165.8        0.049                         1658   \n",
       "3                160.9        0.004                         1609   \n",
       "4                112.8        0.003                         1128   \n",
       "..                 ...          ...                          ...   \n",
       "313              968.9        4.035                         9689   \n",
       "314             1144.7        3.942                        11447   \n",
       "315             1144.7        4.145                        11447   \n",
       "316             1144.7        4.308                        11447   \n",
       "317             1144.6        4.022                        11446   \n",
       "\n",
       "     Flow IAT Mean  Fwd IAT Std  Fwd Packet Length Max  Fwd Header Length  \\\n",
       "0          1.65100      0.64916                    512                536   \n",
       "1          2.66759      2.02854                    652                536   \n",
       "2          8.98554      4.74464                    651                536   \n",
       "3          3.42530      2.54967                    589                536   \n",
       "4          2.12797      1.25877                    652                528   \n",
       "..             ...          ...                    ...                ...   \n",
       "313        0.31952      0.30548                   1921                544   \n",
       "314        0.33230      0.40012                   1920                536   \n",
       "315        0.36742      0.40015                   1920                536   \n",
       "316        0.33678      0.40009                   1919                536   \n",
       "317        0.31464      0.34414                   1919                536   \n",
       "\n",
       "     Label  \n",
       "0        1  \n",
       "1        1  \n",
       "2        1  \n",
       "3        1  \n",
       "4        1  \n",
       "..     ...  \n",
       "313      1  \n",
       "314      1  \n",
       "315      1  \n",
       "316      1  \n",
       "317      1  \n",
       "\n",
       "[15006 rows x 11 columns]"
      ]
     },
     "execution_count": 2,
     "metadata": {},
     "output_type": "execute_result"
    }
   ],
   "source": [
    "import os\n",
    "dfs = [pd.read_csv('csvs/'+file) for file in os.listdir('csvs/')]\n",
    "df = pd.concat(dfs)\n",
    "df"
   ]
  },
  {
   "cell_type": "code",
   "execution_count": 3,
   "metadata": {
    "ExecuteTime": {
     "end_time": "2024-04-13T21:34:32.070512Z",
     "start_time": "2024-04-13T21:34:32.067752Z"
    }
   },
   "outputs": [],
   "source": [
    "# df.to_csv('combined.csv', index=False)"
   ]
  },
  {
   "cell_type": "code",
   "execution_count": 4,
   "metadata": {
    "ExecuteTime": {
     "end_time": "2024-04-13T21:34:32.079219Z",
     "start_time": "2024-04-13T21:34:32.073231Z"
    }
   },
   "outputs": [],
   "source": [
    "# df=pd.read_csv('combined.csv')\n",
    "# df"
   ]
  },
  {
   "cell_type": "code",
   "execution_count": 5,
   "metadata": {
    "ExecuteTime": {
     "end_time": "2024-04-13T21:34:32.090228Z",
     "start_time": "2024-04-13T21:34:32.082469Z"
    }
   },
   "outputs": [
    {
     "data": {
      "text/plain": [
       "array([1, 0])"
      ]
     },
     "execution_count": 5,
     "metadata": {},
     "output_type": "execute_result"
    }
   ],
   "source": [
    "df['Label'].unique()"
   ]
  },
  {
   "cell_type": "code",
   "execution_count": 6,
   "metadata": {
    "ExecuteTime": {
     "end_time": "2024-04-13T21:34:32.102823Z",
     "start_time": "2024-04-13T21:34:32.093505Z"
    }
   },
   "outputs": [
    {
     "data": {
      "text/plain": [
       "Label\n",
       "0    12500\n",
       "1     2506\n",
       "Name: count, dtype: int64"
      ]
     },
     "execution_count": 6,
     "metadata": {},
     "output_type": "execute_result"
    }
   ],
   "source": [
    "df['Label'].value_counts()"
   ]
  },
  {
   "cell_type": "code",
   "execution_count": 7,
   "metadata": {
    "ExecuteTime": {
     "end_time": "2024-04-13T21:34:32.116254Z",
     "start_time": "2024-04-13T21:34:32.105485Z"
    },
    "colab": {
     "base_uri": "https://localhost:8080/",
     "height": 34
    },
    "id": "a-FDOBmOufo6",
    "outputId": "8ba70aa2-818b-48d5-a74b-9a5ddf0b76f7"
   },
   "outputs": [
    {
     "name": "stdout",
     "output_type": "stream",
     "text": [
      "(15006, 10) (15006,)\n"
     ]
    }
   ],
   "source": [
    "y = df['Label'].values\n",
    "X = df.drop(columns=['Label'])\n",
    "print(X.shape, y.shape)"
   ]
  },
  {
   "cell_type": "code",
   "execution_count": 8,
   "metadata": {
    "ExecuteTime": {
     "end_time": "2024-04-13T21:34:33.587280Z",
     "start_time": "2024-04-13T21:34:32.119399Z"
    },
    "colab": {
     "base_uri": "https://localhost:8080/",
     "height": 34
    },
    "id": "4BbvfnjTuzeX",
    "outputId": "55719ff0-84a0-4568-ebda-df2f479bc71c"
   },
   "outputs": [],
   "source": [
    "from sklearn.model_selection import train_test_split\n",
    "X_train, X_other, y_train, y_other = train_test_split(X, y, \n",
    "                                                    train_size=0.7, \n",
    "                                                    random_state=42,\n",
    "                                                    stratify=y)\n",
    "X_test, X_val, y_test, y_val = train_test_split(X_other, y_other, \n",
    "                                                    test_size=0.5, \n",
    "                                                    random_state=42,\n",
    "                                                    stratify=y_other)"
   ]
  },
  {
   "cell_type": "code",
   "execution_count": 9,
   "metadata": {
    "ExecuteTime": {
     "end_time": "2024-04-13T21:34:33.595522Z",
     "start_time": "2024-04-13T21:34:33.589766Z"
    }
   },
   "outputs": [
    {
     "data": {
      "text/plain": [
       "(10504, 10)"
      ]
     },
     "execution_count": 9,
     "metadata": {},
     "output_type": "execute_result"
    }
   ],
   "source": [
    "X_train.shape"
   ]
  },
  {
   "cell_type": "code",
   "execution_count": 10,
   "metadata": {
    "ExecuteTime": {
     "end_time": "2024-04-13T21:34:33.604631Z",
     "start_time": "2024-04-13T21:34:33.599342Z"
    }
   },
   "outputs": [
    {
     "data": {
      "text/plain": [
       "(10504,)"
      ]
     },
     "execution_count": 10,
     "metadata": {},
     "output_type": "execute_result"
    }
   ],
   "source": [
    "y_train.shape"
   ]
  },
  {
   "cell_type": "code",
   "execution_count": 11,
   "metadata": {
    "ExecuteTime": {
     "end_time": "2024-04-13T21:34:33.613846Z",
     "start_time": "2024-04-13T21:34:33.607240Z"
    }
   },
   "outputs": [
    {
     "data": {
      "text/plain": [
       "{0: 8750, 1: 1754}"
      ]
     },
     "execution_count": 11,
     "metadata": {},
     "output_type": "execute_result"
    }
   ],
   "source": [
    "unique, counts = np.unique(y_train, return_counts=True)\n",
    "dict(zip(unique, counts))"
   ]
  },
  {
   "cell_type": "code",
   "execution_count": 12,
   "metadata": {
    "ExecuteTime": {
     "end_time": "2024-04-13T21:34:33.623276Z",
     "start_time": "2024-04-13T21:34:33.618873Z"
    }
   },
   "outputs": [
    {
     "data": {
      "text/plain": [
       "(2251, 10)"
      ]
     },
     "execution_count": 12,
     "metadata": {},
     "output_type": "execute_result"
    }
   ],
   "source": [
    "X_val.shape"
   ]
  },
  {
   "cell_type": "code",
   "execution_count": 13,
   "metadata": {
    "ExecuteTime": {
     "end_time": "2024-04-13T21:34:33.633450Z",
     "start_time": "2024-04-13T21:34:33.625646Z"
    }
   },
   "outputs": [
    {
     "data": {
      "text/plain": [
       "(2251,)"
      ]
     },
     "execution_count": 13,
     "metadata": {},
     "output_type": "execute_result"
    }
   ],
   "source": [
    "y_val.shape"
   ]
  },
  {
   "cell_type": "code",
   "execution_count": 14,
   "metadata": {
    "ExecuteTime": {
     "end_time": "2024-04-13T21:34:33.641687Z",
     "start_time": "2024-04-13T21:34:33.636859Z"
    }
   },
   "outputs": [
    {
     "data": {
      "text/plain": [
       "(2251, 10)"
      ]
     },
     "execution_count": 14,
     "metadata": {},
     "output_type": "execute_result"
    }
   ],
   "source": [
    "X_test.shape"
   ]
  },
  {
   "cell_type": "code",
   "execution_count": 15,
   "metadata": {
    "ExecuteTime": {
     "end_time": "2024-04-13T21:34:33.650365Z",
     "start_time": "2024-04-13T21:34:33.644116Z"
    }
   },
   "outputs": [
    {
     "data": {
      "text/plain": [
       "(2251,)"
      ]
     },
     "execution_count": 15,
     "metadata": {},
     "output_type": "execute_result"
    }
   ],
   "source": [
    "y_test.shape"
   ]
  },
  {
   "cell_type": "code",
   "execution_count": 16,
   "metadata": {
    "ExecuteTime": {
     "end_time": "2024-04-13T21:34:33.657698Z",
     "start_time": "2024-04-13T21:34:33.652699Z"
    }
   },
   "outputs": [
    {
     "data": {
      "text/plain": [
       "(4502, 10)"
      ]
     },
     "execution_count": 16,
     "metadata": {},
     "output_type": "execute_result"
    }
   ],
   "source": [
    "X_other.shape"
   ]
  },
  {
   "cell_type": "code",
   "execution_count": 17,
   "metadata": {
    "ExecuteTime": {
     "end_time": "2024-04-13T21:34:33.665865Z",
     "start_time": "2024-04-13T21:34:33.660690Z"
    }
   },
   "outputs": [
    {
     "data": {
      "text/plain": [
       "(4502,)"
      ]
     },
     "execution_count": 17,
     "metadata": {},
     "output_type": "execute_result"
    }
   ],
   "source": [
    "y_other.shape"
   ]
  },
  {
   "cell_type": "code",
   "execution_count": 18,
   "metadata": {
    "ExecuteTime": {
     "end_time": "2024-04-13T21:34:39.081368Z",
     "start_time": "2024-04-13T21:34:33.668480Z"
    }
   },
   "outputs": [],
   "source": [
    "import tensorflow as tf"
   ]
  },
  {
   "cell_type": "code",
   "execution_count": 21,
   "metadata": {
    "ExecuteTime": {
     "end_time": "2024-04-13T21:40:49.676572Z",
     "start_time": "2024-04-13T21:40:28.748514Z"
    }
   },
   "outputs": [
    {
     "name": "stdout",
     "output_type": "stream",
     "text": [
      "Epoch 1/10\n",
      "329/329 [==============================] - 4s 8ms/step - loss: 4821.1738 - binary_accuracy: 0.9171 - val_loss: 4.4372 - val_binary_accuracy: 0.9587\n",
      "Epoch 2/10\n",
      "329/329 [==============================] - 2s 5ms/step - loss: 1.1053 - binary_accuracy: 0.9566 - val_loss: 2.8217 - val_binary_accuracy: 0.9614\n",
      "Epoch 3/10\n",
      "329/329 [==============================] - 2s 6ms/step - loss: 0.7111 - binary_accuracy: 0.9656 - val_loss: 2.2805 - val_binary_accuracy: 0.9738\n",
      "Epoch 4/10\n",
      "329/329 [==============================] - 2s 6ms/step - loss: 0.9896 - binary_accuracy: 0.9626 - val_loss: 2.5052 - val_binary_accuracy: 0.9725\n",
      "Epoch 5/10\n",
      "329/329 [==============================] - 2s 5ms/step - loss: 0.6343 - binary_accuracy: 0.9658 - val_loss: 4.0076 - val_binary_accuracy: 0.9360\n",
      "Epoch 6/10\n",
      "329/329 [==============================] - 2s 6ms/step - loss: 1.0567 - binary_accuracy: 0.9602 - val_loss: 2.1465 - val_binary_accuracy: 0.9720\n",
      "Epoch 7/10\n",
      "329/329 [==============================] - 2s 6ms/step - loss: 0.5434 - binary_accuracy: 0.9730 - val_loss: 1.9417 - val_binary_accuracy: 0.9689\n",
      "Epoch 8/10\n",
      "329/329 [==============================] - 2s 6ms/step - loss: 0.6470 - binary_accuracy: 0.9687 - val_loss: 1.7596 - val_binary_accuracy: 0.9813\n",
      "Epoch 9/10\n",
      "329/329 [==============================] - 2s 5ms/step - loss: 0.8337 - binary_accuracy: 0.9715 - val_loss: 3.9321 - val_binary_accuracy: 0.9738\n",
      "Epoch 10/10\n",
      "329/329 [==============================] - 2s 6ms/step - loss: 0.8231 - binary_accuracy: 0.9669 - val_loss: 3.2032 - val_binary_accuracy: 0.9596\n",
      "71/71 [==============================] - 0s 5ms/step - loss: 1.0668 - binary_accuracy: 0.9609\n",
      "Test accuracy: 0.9609062671661377\n"
     ]
    }
   ],
   "source": [
    "class CustomClassifier(tf.keras.Model):\n",
    "    def __init__(self):\n",
    "        super(CustomClassifier, self).__init__()\n",
    "        self.dense1 = tf.keras.layers.Dense(64, activation=tf.nn.relu)\n",
    "        self.dense2 = tf.keras.layers.Dense(32, activation=tf.nn.relu)\n",
    "        self.dense3 = tf.keras.layers.Dense(1, activation=tf.nn.sigmoid)\n",
    "\n",
    "    def call(self, inputs):\n",
    "        x = self.dense1(inputs)\n",
    "        x = self.dense2(x)\n",
    "        output = self.dense3(x)\n",
    "        return output\n",
    "\n",
    "model = CustomClassifier()\n",
    "learning_rate = 1*1e-3\n",
    "model.compile(optimizer=tf.keras.optimizers.Adam(learning_rate),\n",
    "              loss=tf.keras.losses.binary_crossentropy,\n",
    "              metrics=[tf.keras.metrics.binary_accuracy])\n",
    "\n",
    "model.fit(X_train, y_train, epochs=10, batch_size=32, validation_data=(X_val, y_val))\n",
    "test_loss, test_acc = model.evaluate(X_test, y_test)\n",
    "print('\\nTest accuracy:', test_acc)"
   ]
  },
  {
   "cell_type": "code",
   "execution_count": null,
   "metadata": {},
   "outputs": [],
   "source": []
  }
 ],
 "metadata": {
  "colab": {
   "collapsed_sections": [
    "SCEkDfpOFPQX",
    "3P69z9kfupES",
    "eLikdx9Legm0",
    "eh-k8KdMhJ_Q",
    "Iiskwr3VmoL5",
    "5PElFLh5oYzU",
    "pnHSPBrDodIs"
   ],
   "name": "Web Attack Detection (ML IDS)",
   "provenance": []
  },
  "kernelspec": {
   "display_name": "tf",
   "language": "python",
   "name": "tf"
  },
  "language_info": {
   "codemirror_mode": {
    "name": "ipython",
    "version": 3
   },
   "file_extension": ".py",
   "mimetype": "text/x-python",
   "name": "python",
   "nbconvert_exporter": "python",
   "pygments_lexer": "ipython3",
   "version": "3.11.5"
  },
  "toc": {
   "base_numbering": 1,
   "nav_menu": {},
   "number_sections": true,
   "sideBar": true,
   "skip_h1_title": false,
   "title_cell": "Table of Contents",
   "title_sidebar": "Contents",
   "toc_cell": false,
   "toc_position": {},
   "toc_section_display": true,
   "toc_window_display": false
  }
 },
 "nbformat": 4,
 "nbformat_minor": 1
}
